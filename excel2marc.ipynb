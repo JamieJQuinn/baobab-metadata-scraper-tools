{
 "cells": [
  {
   "cell_type": "code",
   "execution_count": 39,
   "metadata": {
    "collapsed": false
   },
   "outputs": [],
   "source": [
    "from pymarc import Record, Field, XMLWriter\n",
    "import os\n",
    "import openpyxl\n",
    "import xlrd\n",
    "import uuid\n",
    "import json\n",
    "import sys\n",
    "\n",
    "DEBUG = True"
   ]
  },
  {
   "cell_type": "code",
   "execution_count": 40,
   "metadata": {
    "collapsed": true
   },
   "outputs": [],
   "source": [
    "def loadMapping(mapFile = \"\"):\n",
    "    # Maps the index to the field in the csv file. Eg, if field A or 0 is the publisher, mapping[0] is the\\\n",
    "    # publisher code 260b\n",
    "    #\n",
    "    # only accepts mappings with marc code lengths of 0 (for disabled) or 4\n",
    "    #\n",
    "    # Sample Astral Mapping:\n",
    "    # mapping = [\"260b\", \"\", \"020a\", \"\", \"245a\", \"250a\", \"100a\", \"260c\", \"072a\", \"520a\", \"260a\", \"\", \"041a\", \"365b\", \"365c\"]\n",
    "\n",
    "    mapping = [\"260b\", \"245a\", \"020a\", \"250a\", \"100a\", \"260c\", \"\" \"365b\", \"365c\", \"260a\", \"\", \"500a\", \"\", \"\", \"520a\", \"505a\", \"041a\", \"942c\"]\n",
    "    \n",
    "    if mapFile:\n",
    "        try:\n",
    "            with open(mapFile, 'rb') as fp:\n",
    "                mapping = json.load(fp)\n",
    "        except:\n",
    "            print mapFile + \" not found or not valid JSON file.\"\n",
    "            exit(0)\n",
    "    \n",
    "    # Check mapping for errors\n",
    "    for key in mapping:\n",
    "        if not (len(key) == 4 or len(key) == 0):\n",
    "            print \"Error: given mapping has keys with incorrect lengths (valid lengths are 0 or 4)\"\n",
    "            return []\n",
    "    \n",
    "    return mapping\n",
    "    "
   ]
  },
  {
   "cell_type": "code",
   "execution_count": 41,
   "metadata": {
    "collapsed": true
   },
   "outputs": [],
   "source": [
    "def writeMARCXML(record, filename):\n",
    "    # Write out record in MARCXML format\n",
    "    writer = XMLWriter(open(filename,'wb'))\n",
    "    writer.write(record)\n",
    "    writer.close()  # Important!"
   ]
  },
  {
   "cell_type": "code",
   "execution_count": 42,
   "metadata": {
    "collapsed": true
   },
   "outputs": [],
   "source": [
    "def addField(record, key, sf):\n",
    "    # record is the pymarc record, \n",
    "    # key is the key of format '123a' defined in mapping\n",
    "    # sf is the subfields, i.e. data in the form ['a', 'somedatastring']\n",
    "    \n",
    "    # Deal with currency field\n",
    "    if key[:3] == \"365\":\n",
    "        # if field already exists\n",
    "        if '365' in record:\n",
    "            # if field doesn't already contain the data we've got\n",
    "            if key[-1] not in record['365']:\n",
    "                record['365'].add_subfield(key[-1], sf[1])\n",
    "                return # so as to not create another field below\n",
    "    \n",
    "    record.add_field(\n",
    "    Field(\n",
    "        tag = key[:3], # Grab only field number e.g. |520|b\n",
    "        indicators = ['0', '0'],\n",
    "        subfields = sf\n",
    "    ))"
   ]
  },
  {
   "cell_type": "code",
   "execution_count": 43,
   "metadata": {
    "collapsed": false
   },
   "outputs": [],
   "source": [
    "def handleXLSX(mapping, sheet, outputFolder, rowsToIgnore):\n",
    "    # mapping as defined in mapping function loadMapping\n",
    "    # sheet is the specific excel sheet that contains the data we're extracting\n",
    "    # rowsToIgnore is the number of rows at top of sheet that we don't care about\n",
    "    \n",
    "    \n",
    "    for row in sheet.rows[rowsToIgnore:]:\n",
    "        record = Record()\n",
    "        # for every key in our map\n",
    "        for i, key in enumerate(mapping):\n",
    "            # if the key isn't empty (i.e. we're not mapping that column)\n",
    "            if key:\n",
    "                addField(record, key, [key[3], unicode(row[i].value)])\n",
    "#                 if key[:3] == \"365\":\n",
    "#                     # Dealing with currency\n",
    "#                     if '365' in record:\n",
    "#                         # Field already exists and contains something\n",
    "#                         if key[-1] not in record['365']:\n",
    "#                             # Field doesn't already contain this type of input\n",
    "#                             record['365'][key[-1]] = unicode(row[i].value)\n",
    "#                             continue\n",
    "                        \n",
    "#                 # Add field to record\n",
    "#                 record.add_field(\n",
    "#                     Field(\n",
    "#                         tag = key[:3], # Grab only field number e.g. |520|b\n",
    "#                         indicators = ['0', '0'],\n",
    "#                         subfields = [key[3], unicode(row[i].value)]\n",
    "#                     ))\n",
    "        if DEBUG:\n",
    "            print record.title()\n",
    "            \n",
    "        # Create unique UUID & add to record\n",
    "        bookUUID = str(uuid.uuid1())\n",
    "        record.add_field(Field(tag='001', data=bookUUID))\n",
    "        \n",
    "        # Write out our marcxml for each row\n",
    "        writeMARCXML(record, os.path.join(outputFolder, record.isbn() + '.xml'))"
   ]
  },
  {
   "cell_type": "code",
   "execution_count": 44,
   "metadata": {
    "collapsed": true
   },
   "outputs": [],
   "source": [
    "def formatNumber(n):\n",
    "    # n is an incoming float\n",
    "    if int(n) == n:\n",
    "        # n must be an int\n",
    "        return int(n)\n",
    "    else:\n",
    "        return n"
   ]
  },
  {
   "cell_type": "code",
   "execution_count": 45,
   "metadata": {
    "collapsed": false
   },
   "outputs": [],
   "source": [
    "def test_formatNumber():\n",
    "    testCases = [1000.0, 1234.0, 0.1, 0.001]\n",
    "    for case in testCases:\n",
    "        print formatNumber(case)\n",
    "\n",
    "#test_formatNumber()"
   ]
  },
  {
   "cell_type": "code",
   "execution_count": 46,
   "metadata": {
    "collapsed": false
   },
   "outputs": [],
   "source": [
    "def handleXLS(mapping, sheet, outputFolder, rowsToIgnore):\n",
    "    # mapping as defined in mapping function loadMapping\n",
    "    # sheet is the specific excel sheet that contains the data we're extracting\n",
    "    # rowsToIgnore is the number of rows at top of sheet that we don't care about\n",
    "    \n",
    "    for rowCount in xrange(rowsToIgnore, sheet.nrows):\n",
    "        record = Record()\n",
    "        for i, key in enumerate(mapping):\n",
    "            # if the key isn't empty\n",
    "            if key:\n",
    "                ########### HACK TO GET AROUND XLS NUMBER STORAGE ##############\n",
    "                # If field is an integer\n",
    "                if sheet.row(rowCount)[i].ctype == 2 or sheet.row(rowCount)[i].ctype == 3:\n",
    "                    # Convert to integer before inputting\n",
    "                    sf = [key[3], unicode(formatNumber(sheet.row(rowCount)[i].value))]\n",
    "                else:\n",
    "                    # keep as string\n",
    "                    sf = [key[3], unicode(sheet.row(rowCount)[i].value)]\n",
    "                ################################################################\n",
    "                #sf = [key[3], unicode(sheet.row(rowCount)[i].value)]\n",
    "                # Then add to record\n",
    "                addField(record, key, sf)\n",
    "\n",
    "        # Create unique UUID\n",
    "        bookUUID = str(uuid.uuid1())\n",
    "        record.add_field(Field(tag='001', data=bookUUID))\n",
    "        \n",
    "        # Write out our marcxml for each row\n",
    "        writeMARCXML(record, os.path.join(outputFolder, record.isbn() + '.xml'))"
   ]
  },
  {
   "cell_type": "code",
   "execution_count": 48,
   "metadata": {
    "collapsed": false
   },
   "outputs": [
    {
     "name": "stdout",
     "output_type": "stream",
     "text": [
      "WARNING: In DEBUG mode\n"
     ]
    }
   ],
   "source": [
    "def main():\n",
    "    if DEBUG:\n",
    "        print \"WARNING: In DEBUG mode\"\n",
    "        rowsToIgnore = 1\n",
    "        excelFilename = './test/BaobabMetadataTemplate.xls'\n",
    "        outputFolder = './test/templateConversionXML/'\n",
    "        mappingFilename = './test/BaobabMetadataTemplateMapping.json'\n",
    "    \n",
    "    # Deal with arguments\n",
    "    if not DEBUG:\n",
    "        for i in xrange(len(sys.argv)):\n",
    "            arg = sys.argv[i]\n",
    "            if arg == '--help' or arg == '-h' or \\\n",
    "            '-m' not in sys.argv or '-o' not in sys.argv or '-i' not in sys.argv:\n",
    "                print \"Usage: ./excel2marc.py [-h] [-r rowsToIgnore] -m <mapping file> -i <input excel file> -o <output folder>\"\n",
    "                return\n",
    "            elif arg == '-r':\n",
    "                rowsToIgnore = int(sys.argv[i+1]) # number of rows to ignore at top of spreadsheet\n",
    "            elif arg == '-m':\n",
    "                mappingFilename = sys.argv[i+1]\n",
    "            elif arg == '-i':\n",
    "                excelFilename = sys.argv[i+1]\n",
    "            elif arg == '-o':\n",
    "                outputFolder = sys.argv[i+1]\n",
    "        \n",
    "    \n",
    "    # Get mapping\n",
    "    #mapping = loadMapping(mappingFilename)\n",
    "    mapping = loadMapping()\n",
    "    # Open excel file\n",
    "    if excelFilename.split(\".\")[-1] == \"xlsx\":\n",
    "        try:\n",
    "            wb = openpyxl.load_workbook(filename = excelFilename)\n",
    "        except:\n",
    "            print excelFilename + \" is not found or not a valid .xlsx file.\"\n",
    "            return\n",
    "        sheet = wb[wb.get_sheet_names()[0]]\n",
    "        handleXLSX(mapping, sheet, outputFolder, rowsToIgnore)\n",
    "    elif excelFilename.split(\".\")[-1] == \"xls\":\n",
    "        try:\n",
    "            wb = xlrd.open_workbook(excelFilename)\n",
    "        except:\n",
    "            print excelFilename + \" is not found or not a valid .xls file.\"\n",
    "            return\n",
    "        sheet = wb.sheet_by_index(0)\n",
    "        handleXLS(mapping, sheet, outputFolder, rowsToIgnore)\n",
    "\n",
    "    else:\n",
    "        print \"Not a valid filetype. Must be either .xlsx or .xls format.\"\n",
    "        \n",
    "main()"
   ]
  },
  {
   "cell_type": "code",
   "execution_count": null,
   "metadata": {
    "collapsed": true
   },
   "outputs": [],
   "source": []
  }
 ],
 "metadata": {
  "kernelspec": {
   "display_name": "Python 2",
   "language": "python",
   "name": "python2"
  },
  "language_info": {
   "codemirror_mode": {
    "name": "ipython",
    "version": 2
   },
   "file_extension": ".py",
   "mimetype": "text/x-python",
   "name": "python",
   "nbconvert_exporter": "python",
   "pygments_lexer": "ipython2",
   "version": "2.7.11"
  }
 },
 "nbformat": 4,
 "nbformat_minor": 0
}
