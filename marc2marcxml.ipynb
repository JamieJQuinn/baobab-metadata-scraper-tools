{
 "cells": [
  {
   "cell_type": "code",
   "execution_count": 4,
   "metadata": {
    "collapsed": true
   },
   "outputs": [],
   "source": [
    "from pymarc import XMLWriter, Record, Field, MARCReader"
   ]
  },
  {
   "cell_type": "code",
   "execution_count": 14,
   "metadata": {
    "collapsed": false
   },
   "outputs": [],
   "source": [
    "inputFileName = \"./Astral/Astral1.mrc\"\n",
    "outputFolder = \"./Astral/AstralXML1/\"\n",
    "def main():\n",
    "    with open(inputFileName, 'rb') as fp:\n",
    "        reader = MARCReader(fp)\n",
    "        i = 0\n",
    "        for record in reader:\n",
    "            writer = XMLWriter(open(outputFolder + record['020']['a'] + '.xml','wb'))\n",
    "            writer.write(record)\n",
    "            writer.close()  # Important!\n",
    "            \n",
    "main()"
   ]
  },
  {
   "cell_type": "code",
   "execution_count": null,
   "metadata": {
    "collapsed": true
   },
   "outputs": [],
   "source": []
  }
 ],
 "metadata": {
  "kernelspec": {
   "display_name": "Python 2",
   "language": "python",
   "name": "python2"
  },
  "language_info": {
   "codemirror_mode": {
    "name": "ipython",
    "version": 2
   },
   "file_extension": ".py",
   "mimetype": "text/x-python",
   "name": "python",
   "nbconvert_exporter": "python",
   "pygments_lexer": "ipython2",
   "version": "2.7.10"
  }
 },
 "nbformat": 4,
 "nbformat_minor": 0
}
